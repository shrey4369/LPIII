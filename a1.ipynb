{
  "nbformat": 4,
  "nbformat_minor": 0,
  "metadata": {
    "colab": {
      "provenance": []
    },
    "kernelspec": {
      "name": "python3",
      "display_name": "Python 3"
    },
    "language_info": {
      "name": "python"
    }
  },
  "cells": [
    {
      "cell_type": "code",
      "execution_count": 1,
      "metadata": {
        "colab": {
          "base_uri": "https://localhost:8080/",
          "height": 87
        },
        "id": "njW7il-rxV68",
        "outputId": "dcc3e5ad-12ef-45c9-ab31-c0afdef12155"
      },
      "outputs": [
        {
          "output_type": "stream",
          "name": "stdout",
          "text": [
            "Fibonacci non-recursive: 6765 \tTime: 0.010419 O(n)\tSpace: O(1)\n",
            "Fibonacci recursive:\t 6765 \tTime: 4.090402 O(2^n)\tSpace: O(n)\n"
          ]
        },
        {
          "output_type": "execute_result",
          "data": {
            "text/plain": [
              "'\\nOUTPUT:\\nGiven N = 20\\n1000 runs\\nFibonacci non-recursive: 6765   Time: 0.001657 O(n)     Space: O(1)\\nFibonacci recursive:     6765   Time: 2.064246 O(2^n)   Space: O(n)\\n'"
            ],
            "application/vnd.google.colaboratory.intrinsic+json": {
              "type": "string"
            }
          },
          "metadata": {},
          "execution_count": 1
        }
      ],
      "source": [
        "import timeit\n",
        "\n",
        "\n",
        "def fibonacci(n):\n",
        "    \"\"\"Non recursive fibonacci function\"\"\"\n",
        "    for i in range(2, n + 1):\n",
        "        fib_list[i] = fib_list[i - 1] + fib_list[i - 2]\n",
        "    return fib_list[n]\n",
        "\n",
        "\n",
        "def fibonacci_recursive(n):\n",
        "    \"\"\"Recursive fibonacci function\"\"\"\n",
        "    if n == 0:\n",
        "        return 0\n",
        "    if n == 1:\n",
        "        return 1\n",
        "    fib_recur_list[n] = fibonacci_recursive(n - 1) + fibonacci_recursive(n - 2)\n",
        "    return fib_recur_list[n]\n",
        "\n",
        "\n",
        "N = 20\n",
        "RUNS = 1000\n",
        "# print(f\"Given N = {N}\\n{RUNS} runs\")\n",
        "\n",
        "fib_list = [0] * (N + 1)\n",
        "fib_list[0] = 0\n",
        "fib_list[1] = 1\n",
        "print(\n",
        "    \"Fibonacci non-recursive:\",\n",
        "    fibonacci(N),\n",
        "    \"\\tTime:\",\n",
        "    f'{timeit.timeit(\"fibonacci(N)\", setup=f\"from __main__ import fibonacci;N={N}\", number=RUNS):5f}',\n",
        "    \"O(n)\\tSpace: O(1)\",\n",
        ")\n",
        "\n",
        "fib_recur_list = [0] * (N + 1)\n",
        "fib_recur_list[0] = 0\n",
        "fib_recur_list[1] = 1\n",
        "print(\n",
        "    \"Fibonacci recursive:\\t\",\n",
        "    fibonacci_recursive(N),\n",
        "    \"\\tTime:\",\n",
        "    f'{timeit.timeit(\"fibonacci_recursive(N)\", setup=f\"from __main__ import fibonacci_recursive;N={N}\", number=RUNS,):5f}',\n",
        "    \"O(2^n)\\tSpace: O(n)\",\n",
        ")\n",
        "\n",
        "\n",
        "\"\"\"\n",
        "OUTPUT:\n",
        "Given N = 20\n",
        "1000 runs\n",
        "Fibonacci non-recursive: 6765   Time: 0.001657 O(n)     Space: O(1)\n",
        "Fibonacci recursive:     6765   Time: 2.064246 O(2^n)   Space: O(n)\n",
        "\"\"\""
      ]
    }
  ]
}