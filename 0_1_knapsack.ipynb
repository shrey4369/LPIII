{
  "nbformat": 4,
  "nbformat_minor": 0,
  "metadata": {
    "colab": {
      "provenance": []
    },
    "kernelspec": {
      "name": "python3",
      "display_name": "Python 3"
    },
    "language_info": {
      "name": "python"
    }
  },
  "cells": [
    {
      "cell_type": "code",
      "execution_count": 3,
      "metadata": {
        "colab": {
          "base_uri": "https://localhost:8080/"
        },
        "id": "njW7il-rxV68",
        "outputId": "6470933d-1ffa-4954-a116-1827374c3162"
      },
      "outputs": [
        {
          "output_type": "stream",
          "name": "stdout",
          "text": [
            "220\n"
          ]
        }
      ],
      "source": [
        "# This is the memoization approach of\n",
        "# 0 / 1 Knapsack in Python in simple\n",
        "# we can say recursion + memoization = DP\n",
        " \n",
        "# driver code\n",
        "val = [60, 100, 120 ]\n",
        "wt = [10, 20, 30 ]\n",
        "W = 50\n",
        "n = len(val)\n",
        " \n",
        "# We initialize the matrix with -1 at first.\n",
        "dp = [[-1 for i in range(W + 1)] for j in range(n + 1)]\n",
        " \n",
        " \n",
        "def knapsack(wt, val, W, n):\n",
        " \n",
        "    # base conditions\n",
        "    if n == 0 or W == 0:\n",
        "        return 0\n",
        "    if dp[n][W] != -1:\n",
        "        return dp[n][W]\n",
        " \n",
        "    # choice diagram code\n",
        "    if wt[n-1] <= W:\n",
        "        dp[n][W] = max(val[n-1] + knapsack(wt, val, W-wt[n-1], n-1),\n",
        "        knapsack(wt, val, W, n-1))\n",
        "        return dp[n][W]\n",
        "    elif wt[n-1] > W:\n",
        "        dp[n][W] = knapsack(wt, val, W, n-1)\n",
        "        return dp[n][W]\n",
        "print(knapsack(wt, val, W, n))"
      ]
    }
  ]
}