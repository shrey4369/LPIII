{
  "nbformat": 4,
  "nbformat_minor": 0,
  "metadata": {
    "colab": {
      "provenance": []
    },
    "kernelspec": {
      "name": "python3",
      "display_name": "Python 3"
    },
    "language_info": {
      "name": "python"
    }
  },
  "cells": [
    {
      "cell_type": "code",
      "execution_count": 2,
      "metadata": {
        "colab": {
          "base_uri": "https://localhost:8080/"
        },
        "id": "njW7il-rxV68",
        "outputId": "d32f605a-0fd5-4ba2-9fb0-ec6662bc6d59"
      },
      "outputs": [
        {
          "output_type": "stream",
          "name": "stdout",
          "text": [
            "240.0\n"
          ]
        }
      ],
      "source": [
        "\n",
        "\n",
        "class Item:\n",
        "    def __init__(self, value, weight):\n",
        "        self.value = value\n",
        "        self.weight = weight\n",
        " \n",
        "# Main greedy function to solve problem\n",
        "def fractionalKnapsack(W, arr):\n",
        " \n",
        "    # Sorting Item on basis of ratio\n",
        "    arr.sort(key=lambda x: (x.value/x.weight), reverse=True)   \n",
        " \n",
        "    # Result(value in Knapsack)\n",
        "    finalvalue = 0\n",
        " \n",
        "    # Looping through all Items\n",
        "    for item in arr:\n",
        " \n",
        "        # If adding Item won't overflow,\n",
        "        # add it completely\n",
        "        if item.weight <= W:\n",
        "            W -= item.weight\n",
        "            finalvalue += item.value\n",
        " \n",
        "        # If we can't add current Item,\n",
        "        # add fractional part of it\n",
        "        else:\n",
        "            finalvalue += item.value * W / item.weight  \n",
        "            break\n",
        "     \n",
        "    # Returning final value\n",
        "    return finalvalue\n",
        " \n",
        " \n",
        "# Driver Code\n",
        "if __name__ == \"__main__\":\n",
        " \n",
        "    W = 50\n",
        "    arr = [Item(60, 10), Item(100, 20), Item(120, 30)]\n",
        " \n",
        "    # Function call\n",
        "    max_val = fractionalKnapsack(W, arr)\n",
        "    print(max_val)"
      ]
    }
  ]
}