{
  "nbformat": 4,
  "nbformat_minor": 0,
  "metadata": {
    "colab": {
      "provenance": []
    },
    "kernelspec": {
      "name": "python3",
      "display_name": "Python 3"
    },
    "language_info": {
      "name": "python"
    }
  },
  "cells": [
    {
      "cell_type": "code",
      "execution_count": 1,
      "metadata": {
        "colab": {
          "base_uri": "https://localhost:8080/"
        },
        "id": "9-uG7242l3qf",
        "outputId": "adaffb52-00c0-43b2-9e2c-6c18456bce49"
      },
      "outputs": [
        {
          "output_type": "stream",
          "name": "stdout",
          "text": [
            "Following is maximum profit sequence of jobs\n",
            "['c', 'a', 'e']\n"
          ]
        }
      ],
      "source": [
        "# function to schedule the jobs take 2\n",
        "# arguments array and no of jobs to schedule\n",
        "\n",
        "def printJobScheduling(arr, t):\n",
        "\n",
        "\t# length of array\n",
        "\tn = len(arr)\n",
        "\n",
        "\t# Sort all jobs according to\n",
        "\t# decreasing order of profit\n",
        "\tfor i in range(n):\n",
        "\t\tfor j in range(n - 1 - i):\n",
        "\t\t\tif arr[j][2] < arr[j + 1][2]:\n",
        "\t\t\t\tarr[j], arr[j + 1] = arr[j + 1], arr[j]\n",
        "\n",
        "\t# To keep track of free time slots\n",
        "\tresult = [False] * t\n",
        "\n",
        "\t# To store result (Sequence of jobs)\n",
        "\tjob = ['-1'] * t\n",
        "\n",
        "\t# Iterate through all given jobs\n",
        "\tfor i in range(len(arr)):\n",
        "\n",
        "\t\t# Find a free slot for this job\n",
        "\t\t# (Note that we start from the\n",
        "\t\t# last possible slot)\n",
        "\t\tfor j in range(min(t - 1, arr[i][1] - 1), -1, -1):\n",
        "\n",
        "\t\t\t# Free slot found\n",
        "\t\t\tif result[j] is False:\n",
        "\t\t\t\tresult[j] = True\n",
        "\t\t\t\tjob[j] = arr[i][0]\n",
        "\t\t\t\tbreak\n",
        "\n",
        "\t# print the sequence\n",
        "\tprint(job)\n",
        "\n",
        "\n",
        "# Driver's Code\n",
        "if __name__ == '__main__':\n",
        "\tarr = [['a', 2, 100], # Job Array\n",
        "\t\t\t['b', 1, 19],\n",
        "\t\t\t['c', 2, 27],\n",
        "\t\t\t['d', 1, 25],\n",
        "\t\t\t['e', 3, 15]]\n",
        "\n",
        "\n",
        "\tprint(\"Following is maximum profit sequence of jobs\")\n",
        "\n",
        "\t# Function Call\n",
        "\tprintJobScheduling(arr, 3)"
      ]
    }
  ]
}