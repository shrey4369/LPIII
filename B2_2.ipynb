{
  "nbformat": 4,
  "nbformat_minor": 0,
  "metadata": {
    "colab": {
      "provenance": []
    },
    "kernelspec": {
      "name": "python3",
      "display_name": "Python 3"
    },
    "language_info": {
      "name": "python"
    }
  },
  "cells": [
    {
      "cell_type": "code",
      "execution_count": 3,
      "metadata": {
        "id": "XBtrYUHMWt2b",
        "colab": {
          "base_uri": "https://localhost:8080/"
        },
        "outputId": "f015d0e9-cd57-408c-9706-3bca22326ba9"
      },
      "outputs": [
        {
          "output_type": "stream",
          "name": "stdout",
          "text": [
            "<class 'pandas.core.frame.DataFrame'>\n",
            "RangeIndex: 5172 entries, 0 to 5171\n",
            "Columns: 3002 entries, Email No. to Prediction\n",
            "dtypes: int64(3001), object(1)\n",
            "memory usage: 118.5+ MB\n",
            "Accuracy for K-Nearest Neighbors model \t: 0.8878865979381443\n",
            "Accuracy for Linear SVM model \t: 0.9755154639175257\n",
            "Accuracy for Polynomical SVM model \t: 0.7615979381443299\n",
            "Accuracy for RBF SVM model \t: 0.8182989690721649\n",
            "Accuracy for Sigmoid SVM model \t: 0.6237113402061856\n"
          ]
        }
      ],
      "source": [
        "import pandas as pd\n",
        "import numpy as np\n",
        "import seaborn as sns\n",
        "import matplotlib.pyplot as plt\n",
        "from sklearn.model_selection import train_test_split\n",
        "from sklearn.svm import SVC, LinearSVC\n",
        "from sklearn.neighbors import KNeighborsClassifier\n",
        "from sklearn import metrics\n",
        "from sklearn import preprocessing\n",
        "\n",
        "df = pd.read_csv('/content/emails.csv')\n",
        "\n",
        "df.info()\n",
        "\n",
        "df.head()\n",
        "\n",
        "df.dtypes\n",
        "\n",
        "df.drop(columns=['Email No.'], inplace=True)\n",
        "\n",
        "df.isna().sum()\n",
        "\n",
        "df.describe()\n",
        "\n",
        "X=df.iloc[:, :df.shape[1]-1] #Independent Variables\n",
        "y=df.iloc[:, -1] #Dependent Variable\n",
        "X.shape, y.shape\n",
        "\n",
        "X_train, X_test, y_train, y_test = train_test_split(X, y, test_size=0.15, random_state=8)\n",
        "                                                    \n",
        "models = {\n",
        "\"K-Nearest Neighbors\": KNeighborsClassifier(n_neighbors=2),\n",
        "\"Linear SVM\":LinearSVC(random_state=8, max_iter=900000),\n",
        "\"Polynomical SVM\":SVC(kernel=\"poly\", degree=2, random_state=8),\n",
        "\"RBF SVM\":SVC(kernel=\"rbf\", random_state=8),\n",
        "\"Sigmoid SVM\":SVC(kernel=\"sigmoid\", random_state=8)\n",
        "}\n",
        "\n",
        "for model_name, model in models.items():\n",
        "    y_pred=model.fit(X_train, y_train).predict(X_test)\n",
        "    print(f\"Accuracy for {model_name} model \\t: {metrics.accuracy_score(y_test, y_pred)}\")"
      ]
    }
  ]
}